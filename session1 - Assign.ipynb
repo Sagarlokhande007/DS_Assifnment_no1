{
 "cells": [
  {
   "cell_type": "markdown",
   "id": "7270299a-c57c-4e79-a719-19105246cd48",
   "metadata": {},
   "source": [
    "# 1st session"
   ]
  },
  {
   "cell_type": "markdown",
   "id": "4b687b94-2c95-4ef8-9860-96084c6aefd7",
   "metadata": {},
   "source": [
    "### 1.Write a program that will give you in hand monthly salary after deduction on CTC - HRA(10%), DA(5%), PF(3%) and taxes deduction as below:\n",
    "Salary(Lakhs) : Tax(%)\n",
    "\n",
    "1. Below 5 : 0%  \n",
    "\n",
    "2. 5-10 : 10%\n",
    "\n",
    "3. 10-20 : 20%\n",
    "\n",
    "4. aboove 20 : 30%"
   ]
  },
  {
   "cell_type": "code",
   "execution_count": null,
   "id": "8e1aa82b-7f76-419b-b77b-3d1ddbcd4db5",
   "metadata": {},
   "outputs": [],
   "source": [
    "# Taking input of CTC (Cost to Company) in lakhs\n",
    "ctc = float(input(\"Enter the CTC in lakhs: \"))\n",
    "\n",
    "# Calculating deductions\n",
    "HRA = ctc * 0.1\n",
    "DA = ctc * 0.05\n",
    "PF = ctc * 0.03\n",
    "\n",
    "# Calculating taxable income\n",
    "taxable_income = ctc - HRA - DA - PF\n",
    "\n",
    "# Calculating tax percentage based on CTC range\n",
    "if ctc < 5:\n",
    " tax_percentage = 0\n",
    "elif 5 <= ctc <= 10:\n",
    " tax_percentage = 10\n",
    "elif 10 <= ctc <= 20:\n",
    " tax_percentage = 20\n",
    "else:\n",
    " tax_percentage = 30\n",
    "\n",
    "# Calculating tax deduction\n",
    "tax_deduction = taxable_income * (tax_percentage / 100)\n",
    "\n",
    "# Calculating monthly salary\n",
    "monthly_salary = ctc - HRA - DA - PF - tax_deduction\n",
    "\n",
    "# Displaying the result\n",
    "print(\"Monthly Salary: ₹\", monthly_salary)"
   ]
  },
  {
   "cell_type": "markdown",
   "id": "7f3eb905-3fee-4f50-a983-2191789a2142",
   "metadata": {},
   "source": [
    "### 2.Write a program that take a user input of three angles and will find out whether it can form a triangle or not."
   ]
  },
  {
   "cell_type": "code",
   "execution_count": null,
   "id": "bfc5df42-5b78-47dc-a0a6-f14b20b7c1fa",
   "metadata": {},
   "outputs": [],
   "source": [
    "angle1 = int(input(\"Enter the first angle: \"))\n",
    "angle2 = int(input(\"Enter the second angle: \"))\n",
    "angle3 = int(input(\"Enter the third angle: \"))\n",
    "\n",
    "if angle1 + angle2 + angle3 == 180:\n",
    " print(\"Triangle can be formed.\")\n",
    "else:\n",
    " print(\"Triangle cannot be formed.\")"
   ]
  },
  {
   "cell_type": "markdown",
   "id": "c427cec5-b3dd-4109-8f22-40796bde1624",
   "metadata": {},
   "source": [
    "### 3.Write a program that will take user input of cost price and selling price and determines whether its a loss or a profit."
   ]
  },
  {
   "cell_type": "code",
   "execution_count": 9,
   "id": "bfb94efe-7fbd-4c83-a124-d10a7f8358b0",
   "metadata": {},
   "outputs": [
    {
     "name": "stdin",
     "output_type": "stream",
     "text": [
      "Enter the cost price:  1\n",
      "Enter the selling price:  4\n"
     ]
    },
    {
     "name": "stdout",
     "output_type": "stream",
     "text": [
      "The profit of Rs. 3.0\n"
     ]
    }
   ],
   "source": [
    "\n",
    "cost_price = float(input(\"Enter the cost price: \"))\n",
    "selling_price = float(input(\"Enter the selling price: \"))\n",
    "\n",
    "profit = selling_price - cost_price\n",
    "\n",
    "if profit > 0:\n",
    " print(\"The profit of Rs.\",profit)\n",
    "elif profit < 0:\n",
    " print(\"The loss of Rs.\",profit)\n",
    "else:\n",
    " print(\"No profit and No loss.\",profit)"
   ]
  },
  {
   "cell_type": "markdown",
   "id": "4bfc96b9-2c84-4795-bc06-335886bfc1d8",
   "metadata": {},
   "source": [
    "### 4.Write a menu-driven program -\r\n",
    "\r\n",
    "  1.  cm to ft\r\n",
    " 2.   km to miles\r\n",
    "3.    USD to INR\r",
    "4.\n",
    "    exit\r\n",
    " "
   ]
  },
  {
   "cell_type": "code",
   "execution_count": 26,
   "id": "5cd96c7b-552f-4f4a-b184-c76496618c33",
   "metadata": {},
   "outputs": [
    {
     "name": "stdin",
     "output_type": "stream",
     "text": [
      "Select the option into them\n",
      "1. CM to Feet\n",
      "2. KM to miles\n",
      "3. USD to INR\n",
      "4. Exit\n",
      "\n",
      " 1\n",
      "Enter the CM value : 60\n"
     ]
    },
    {
     "name": "stdout",
     "output_type": "stream",
     "text": [
      "The Feet is : 1.92\n"
     ]
    }
   ],
   "source": [
    "a = int(input(\"\"\"Select the option into them\n",
    "1. CM to Feet\n",
    "2. KM to miles\n",
    "3. USD to INR\n",
    "4. Exit\n",
    "\n",
    "\"\"\"))\n",
    "\n",
    "if a==1:\n",
    "    n = float(input(\"Enter the CM value :\"))\n",
    "    cm = n*0.032\n",
    "    print(\"The Feet is :\",cm)\n",
    "    \n",
    "\n",
    "elif a==2:\n",
    "    n = eval(input(\"Enter the KM to convert :\"))\n",
    "    miles = n *0.62\n",
    "    print(\"The Miles is :\",miles)\n",
    "    \n",
    "elif a ==3:\n",
    "    n = eval(input(\"Enter the USD to convert :\"))   #evel for confusion to int or float\n",
    "    INR = n*83.35\n",
    "    print(\"The INR is : \",INR)\n",
    "\n",
    "elif a ==4:\n",
    "    print(\"Exit is successful\")\n",
    "\n",
    "else:\n",
    "    print(\"Choose the correct option\")\n",
    "    exit()\n"
   ]
  },
  {
   "cell_type": "markdown",
   "id": "972f7993-01df-4d1c-b823-23c04fe9afa6",
   "metadata": {},
   "source": [
    "### 5.Display Fibonacci series up to 10 terms."
   ]
  },
  {
   "cell_type": "code",
   "execution_count": 7,
   "id": "d767c05e-f4ab-47b1-8c75-cf6872fa5094",
   "metadata": {},
   "outputs": [
    {
     "name": "stdout",
     "output_type": "stream",
     "text": [
      "1 2 3 5 8 13 21 34 55 89 "
     ]
    }
   ],
   "source": [
    "num = 10\n",
    "a = 0\n",
    "b = 1\n",
    "temp=0\n",
    "#print(\"0 1 \",end=\"\")\n",
    "i =2\n",
    "for i in range(num):\n",
    "    temp = a + b\n",
    "    a=b\n",
    "    b= temp\n",
    "    print(b, end =\" \")"
   ]
  },
  {
   "cell_type": "markdown",
   "id": "13f6e680-7be0-454e-b6ee-30ccf936803a",
   "metadata": {},
   "source": [
    "### 6.Find the factorial of a given number.\r\n",
    "\r\n",
    "Write a program to use the loop to find the factorial of a given number.\r\n",
    "\r\n",
    "The factorial (symbol: !) means to multiply all whole numbers from the chosen number down to 1.\r\n",
    "\r\n",
    "For example: calculate the factorial of 5\r\n",
    "\r\n",
    "5! = 5 × 4 × 3 × 2 × 1 = 120"
   ]
  },
  {
   "cell_type": "code",
   "execution_count": 6,
   "id": "5319d47f-c2b7-46f4-96f4-4fb8c2e3b455",
   "metadata": {},
   "outputs": [
    {
     "name": "stdin",
     "output_type": "stream",
     "text": [
      "enter no 5\n"
     ]
    },
    {
     "name": "stdout",
     "output_type": "stream",
     "text": [
      "5 ! =  5*4*3*2*1*0 =  120\n"
     ]
    }
   ],
   "source": [
    "n=int(input(\"enter no\"))\n",
    "sum = 1\n",
    "fact =1\n",
    "print(n,\"! = \",\"\",end=\"\")\n",
    "for i in range(n, 0, -1):\n",
    "    print(i,end =\"*\")\n",
    "    sum = n*n-1\n",
    "for i in range(1, n+1):\n",
    "    fact = fact * i\n",
    " \n",
    "\n",
    "print(\"0\",end =\"\")\n",
    "print(\" = \",fact)\n",
    "    \n",
    "\n"
   ]
  },
  {
   "cell_type": "markdown",
   "id": "44cc3947-390a-40df-8c51-b03983bdba24",
   "metadata": {},
   "source": [
    "### 7.Reverse a given integer number.\n",
    "Example:\n",
    "\n",
    "Input:\n",
    "76542\n",
    "\n",
    "Output:\n",
    "24567"
   ]
  },
  {
   "cell_type": "code",
   "execution_count": 5,
   "id": "4aa48fec-e546-4949-a816-54fa7a76e6eb",
   "metadata": {},
   "outputs": [
    {
     "name": "stdin",
     "output_type": "stream",
     "text": [
      "Enter the integer number: 76542\n"
     ]
    },
    {
     "name": "stdout",
     "output_type": "stream",
     "text": [
      "24567\n"
     ]
    }
   ],
   "source": [
    "num = int(input(\"Enter the integer number:\"))\n",
    "\n",
    "#    print(\"The reverse is \",str(num)[::-1])\n",
    "\n",
    "\n",
    "temp = num\n",
    "reverse = 0\n",
    "while num > 0:\n",
    "    remainder = num % 10\n",
    "    reverse = (reverse * 10) + remainder\n",
    "    num = num // 10\n",
    "print(reverse)"
   ]
  },
  {
   "cell_type": "markdown",
   "id": "3d0767f3-e876-4d53-91df-8da71396a0f2",
   "metadata": {},
   "source": [
    "### 8.Take a user input as integer N. Find out the sum from 1 to N. If any number if divisible by 5, then skip that number. And if the sum is greater than 300, don't need to calculate the sum further more. Print the final result. And don't use for loop to solve this problem.\n",
    "Example 1:\n",
    "\n",
    "Input:\n",
    "30\n",
    "\n",
    "Output:\n",
    "276"
   ]
  },
  {
   "cell_type": "code",
   "execution_count": 3,
   "id": "dfe7c06a-9768-491a-9d79-827c833675c7",
   "metadata": {},
   "outputs": [
    {
     "name": "stdin",
     "output_type": "stream",
     "text": [
      " 30\n"
     ]
    },
    {
     "name": "stdout",
     "output_type": "stream",
     "text": [
      "276\n"
     ]
    }
   ],
   "source": [
    "N = int(input())\n",
    "sum = 0\n",
    "a=1\n",
    "while(a<N):\n",
    "    if a%5==0:\n",
    "        pass\n",
    "    else:\n",
    "        if sum+a<=300:\n",
    "            sum +=a    \n",
    "        else:\n",
    "            break\n",
    "    a+=1\n",
    "print(sum)\n"
   ]
  },
  {
   "cell_type": "markdown",
   "id": "51faa949-4b8f-4cd9-adf2-1040626de710",
   "metadata": {},
   "source": [
    "### 9.Write a program that keeps on accepting a number from the user until the user enters Zero. Display the sum and average of all the numbers."
   ]
  },
  {
   "cell_type": "code",
   "execution_count": 27,
   "id": "4107ab91-97bc-4e5a-8afd-c8ff84d24ca4",
   "metadata": {},
   "outputs": [
    {
     "name": "stdin",
     "output_type": "stream",
     "text": [
      "Enter the number 1\n",
      "Enter the number 2\n",
      "Enter the number 3\n",
      "Enter the number 4\n",
      "Enter the number 0\n"
     ]
    },
    {
     "name": "stdout",
     "output_type": "stream",
     "text": [
      "The sum of total value is  10\n",
      "The average of total values is  2.5\n"
     ]
    }
   ],
   "source": [
    "count =0\n",
    "a = 1\n",
    "sum =0\n",
    "while(a!=0):\n",
    "    a = int(input(\"Enter the number\"))\n",
    "    sum +=a\n",
    "    count+=1\n",
    "count-=1\n",
    "print(\"The sum of total value is \",sum)\n",
    "print(\"The average of total values is \",sum/count)\n"
   ]
  },
  {
   "cell_type": "markdown",
   "id": "57e3e6db-b01e-4d80-959c-e1d9d930870d",
   "metadata": {},
   "source": [
    "###  10.Write a program which will find all such numbers which are divisible by __   7 but are not a multiple of 5, between 2000 and 3200 (both included). The numbers obtained should be printed in a comma-separated sequence on a single line."
   ]
  },
  {
   "cell_type": "code",
   "execution_count": 25,
   "id": "924fca92-6a35-49bc-afbb-be29b25d110d",
   "metadata": {},
   "outputs": [
    {
     "name": "stdin",
     "output_type": "stream",
     "text": [
      "Enter the number between 2000-3200 : 3200\n"
     ]
    },
    {
     "name": "stdout",
     "output_type": "stream",
     "text": [
      "2002,2009,2016,2023,2037,2044,2051,2058,2072,2079,2086,2093,2107,2114,2121,2128,2142,2149,2156,2163,2177,2184,2191,2198,2212,2219,2226,2233,2247,2254,2261,2268,2282,2289,2296,2303,2317,2324,2331,2338,2352,2359,2366,2373,2387,2394,2401,2408,2422,2429,2436,2443,2457,2464,2471,2478,2492,2499,2506,2513,2527,2534,2541,2548,2562,2569,2576,2583,2597,2604,2611,2618,2632,2639,2646,2653,2667,2674,2681,2688,2702,2709,2716,2723,2737,2744,2751,2758,2772,2779,2786,2793,2807,2814,2821,2828,2842,2849,2856,2863,2877,2884,2891,2898,2912,2919,2926,2933,2947,2954,2961,2968,2982,2989,2996,3003,3017,3024,3031,3038,3052,3059,3066,3073,3087,3094,3101,3108,3122,3129,3136,3143,3157,3164,3171,3178,3192,3199,"
     ]
    }
   ],
   "source": [
    "num = int(input(\"Enter the number between 2000-3200 :\"))\n",
    "for i in range(2000,num+1):\n",
    "    if i%7==0 : \n",
    "        n =i\n",
    "        while(n>0):\n",
    "            n = n-5\n",
    "        if n==0:\n",
    "            pass\n",
    "        else:\n",
    "            print(i,end=\",\")\n",
    "    else:\n",
    "        pass\n",
    "\n",
    "    \n",
    "# result = []\n",
    "# for i in range(2000, 3200):\n",
    "#     if i % 7 == 0 and i % 5 != 0:\n",
    "#         result.append(str(i))\n",
    "# print(','.join(result))\n",
    "\n"
   ]
  },
  {
   "cell_type": "markdown",
   "id": "b29195eb-beaa-440b-9c64-9767c6fa0727",
   "metadata": {},
   "source": [
    "### 11. Write a program , which will find all such numbers between 1000 and 3000(both included) such that each digit of the number is as even number. The numbers obtained should be printed in a space-separated sequence on a single line."
   ]
  },
  {
   "cell_type": "code",
   "execution_count": 30,
   "id": "f4fa3f3c-9f40-487b-8db0-2b282e646aef",
   "metadata": {},
   "outputs": [
    {
     "name": "stdout",
     "output_type": "stream",
     "text": [
      "1000 1002 1004 1006 1008 1010 1012 1014 1016 1018 1020 1022 1024 1026 1028 1030 1032 1034 1036 1038 1040 1042 1044 1046 1048 1050 1052 1054 1056 1058 1060 1062 1064 1066 1068 1070 1072 1074 1076 1078 1080 1082 1084 1086 1088 1090 1092 1094 1096 1098 1100 1102 1104 1106 1108 1110 1112 1114 1116 1118 1120 1122 1124 1126 1128 1130 1132 1134 1136 1138 1140 1142 1144 1146 1148 1150 1152 1154 1156 1158 1160 1162 1164 1166 1168 1170 1172 1174 1176 1178 1180 1182 1184 1186 1188 1190 1192 1194 1196 1198 1200 1202 1204 1206 1208 1210 1212 1214 1216 1218 1220 1222 1224 1226 1228 1230 1232 1234 1236 1238 1240 1242 1244 1246 1248 1250 1252 1254 1256 1258 1260 1262 1264 1266 1268 1270 1272 1274 1276 1278 1280 1282 1284 1286 1288 1290 1292 1294 1296 1298 1300 1302 1304 1306 1308 1310 1312 1314 1316 1318 1320 1322 1324 1326 1328 1330 1332 1334 1336 1338 1340 1342 1344 1346 1348 1350 1352 1354 1356 1358 1360 1362 1364 1366 1368 1370 1372 1374 1376 1378 1380 1382 1384 1386 1388 1390 1392 1394 1396 1398 1400 1402 1404 1406 1408 1410 1412 1414 1416 1418 1420 1422 1424 1426 1428 1430 1432 1434 1436 1438 1440 1442 1444 1446 1448 1450 1452 1454 1456 1458 1460 1462 1464 1466 1468 1470 1472 1474 1476 1478 1480 1482 1484 1486 1488 1490 1492 1494 1496 1498 1500 1502 1504 1506 1508 1510 1512 1514 1516 1518 1520 1522 1524 1526 1528 1530 1532 1534 1536 1538 1540 1542 1544 1546 1548 1550 1552 1554 1556 1558 1560 1562 1564 1566 1568 1570 1572 1574 1576 1578 1580 1582 1584 1586 1588 1590 1592 1594 1596 1598 1600 1602 1604 1606 1608 1610 1612 1614 1616 1618 1620 1622 1624 1626 1628 1630 1632 1634 1636 1638 1640 1642 1644 1646 1648 1650 1652 1654 1656 1658 1660 1662 1664 1666 1668 1670 1672 1674 1676 1678 1680 1682 1684 1686 1688 1690 1692 1694 1696 1698 1700 1702 1704 1706 1708 1710 1712 1714 1716 1718 1720 1722 1724 1726 1728 1730 1732 1734 1736 1738 1740 1742 1744 1746 1748 1750 1752 1754 1756 1758 1760 1762 1764 1766 1768 1770 1772 1774 1776 1778 1780 1782 1784 1786 1788 1790 1792 1794 1796 1798 1800 1802 1804 1806 1808 1810 1812 1814 1816 1818 1820 1822 1824 1826 1828 1830 1832 1834 1836 1838 1840 1842 1844 1846 1848 1850 1852 1854 1856 1858 1860 1862 1864 1866 1868 1870 1872 1874 1876 1878 1880 1882 1884 1886 1888 1890 1892 1894 1896 1898 1900 1902 1904 1906 1908 1910 1912 1914 1916 1918 1920 1922 1924 1926 1928 1930 1932 1934 1936 1938 1940 1942 1944 1946 1948 1950 1952 1954 1956 1958 1960 1962 1964 1966 1968 1970 1972 1974 1976 1978 1980 1982 1984 1986 1988 1990 1992 1994 1996 1998 2000 2002 2004 2006 2008 2010 2012 2014 2016 2018 2020 2022 2024 2026 2028 2030 2032 2034 2036 2038 2040 2042 2044 2046 2048 2050 2052 2054 2056 2058 2060 2062 2064 2066 2068 2070 2072 2074 2076 2078 2080 2082 2084 2086 2088 2090 2092 2094 2096 2098 2100 2102 2104 2106 2108 2110 2112 2114 2116 2118 2120 2122 2124 2126 2128 2130 2132 2134 2136 2138 2140 2142 2144 2146 2148 2150 2152 2154 2156 2158 2160 2162 2164 2166 2168 2170 2172 2174 2176 2178 2180 2182 2184 2186 2188 2190 2192 2194 2196 2198 2200 2202 2204 2206 2208 2210 2212 2214 2216 2218 2220 2222 2224 2226 2228 2230 2232 2234 2236 2238 2240 2242 2244 2246 2248 2250 2252 2254 2256 2258 2260 2262 2264 2266 2268 2270 2272 2274 2276 2278 2280 2282 2284 2286 2288 2290 2292 2294 2296 2298 2300 2302 2304 2306 2308 2310 2312 2314 2316 2318 2320 2322 2324 2326 2328 2330 2332 2334 2336 2338 2340 2342 2344 2346 2348 2350 2352 2354 2356 2358 2360 2362 2364 2366 2368 2370 2372 2374 2376 2378 2380 2382 2384 2386 2388 2390 2392 2394 2396 2398 2400 2402 2404 2406 2408 2410 2412 2414 2416 2418 2420 2422 2424 2426 2428 2430 2432 2434 2436 2438 2440 2442 2444 2446 2448 2450 2452 2454 2456 2458 2460 2462 2464 2466 2468 2470 2472 2474 2476 2478 2480 2482 2484 2486 2488 2490 2492 2494 2496 2498 2500 2502 2504 2506 2508 2510 2512 2514 2516 2518 2520 2522 2524 2526 2528 2530 2532 2534 2536 2538 2540 2542 2544 2546 2548 2550 2552 2554 2556 2558 2560 2562 2564 2566 2568 2570 2572 2574 2576 2578 2580 2582 2584 2586 2588 2590 2592 2594 2596 2598 2600 2602 2604 2606 2608 2610 2612 2614 2616 2618 2620 2622 2624 2626 2628 2630 2632 2634 2636 2638 2640 2642 2644 2646 2648 2650 2652 2654 2656 2658 2660 2662 2664 2666 2668 2670 2672 2674 2676 2678 2680 2682 2684 2686 2688 2690 2692 2694 2696 2698 2700 2702 2704 2706 2708 2710 2712 2714 2716 2718 2720 2722 2724 2726 2728 2730 2732 2734 2736 2738 2740 2742 2744 2746 2748 2750 2752 2754 2756 2758 2760 2762 2764 2766 2768 2770 2772 2774 2776 2778 2780 2782 2784 2786 2788 2790 2792 2794 2796 2798 2800 2802 2804 2806 2808 2810 2812 2814 2816 2818 2820 2822 2824 2826 2828 2830 2832 2834 2836 2838 2840 2842 2844 2846 2848 2850 2852 2854 2856 2858 2860 2862 2864 2866 2868 2870 2872 2874 2876 2878 2880 2882 2884 2886 2888 2890 2892 2894 2896 2898 2900 2902 2904 2906 2908 2910 2912 2914 2916 2918 2920 2922 2924 2926 2928 2930 2932 2934 2936 2938 2940 2942 2944 2946 2948 2950 2952 2954 2956 2958 2960 2962 2964 2966 2968 2970 2972 2974 2976 2978 2980 2982 2984 2986 2988 2990 2992 2994 2996 2998 3000\n"
     ]
    }
   ],
   "source": [
    "result = []\n",
    "for i in range(1000, 3000+1):\n",
    "    if i%2==0:\n",
    "       result.append(str(i))\n",
    "print(' '.join(result))"
   ]
  },
  {
   "cell_type": "markdown",
   "id": "7edc3140-6832-4f55-a53e-1b852afb26ae",
   "metadata": {},
   "source": [
    "### 12. A robot moves in a plane starting from the original point(0,0). The robot can move toward UP,DOWN, LEFT, and RIGHT with a given steps.\n",
    "\n",
    "The trace of robot movement is shown as the following \n",
    "\n",
    "1. 5 UP\n",
    "\n",
    "3. 3 DOWN\n",
    "\n",
    "3. 3 LEFT\n",
    "\n",
    "2. 2 RIGHT\n",
    "\n",
    "!\n",
    "\n",
    "The numbers after the direction are steps.\n",
    "\n",
    "! means robot stop there.\n",
    "\n",
    "Please write a program to compute the distance from current position after a sequence of movement and original point.\n",
    "\n",
    "If the distance is a float, then just print the nearest integer.\n",
    "\n",
    "Example:\n",
    "\n",
    "Input:\n",
    "\n",
    "UP 5\n",
    "DOWN 3\n",
    "LEFT 3\n",
    "RIGHT 2\n",
    "!\n",
    "\n",
    "\n",
    "Output:\n",
    "\n",
    "2"
   ]
  },
  {
   "cell_type": "code",
   "execution_count": 61,
   "id": "23efb6d4-735e-4708-85c8-b76f4ac1eae6",
   "metadata": {},
   "outputs": [
    {
     "name": "stdout",
     "output_type": "stream",
     "text": [
      "4\n"
     ]
    }
   ],
   "source": [
    "# import math\n",
    "# movements = [\"UP 5\", \"DOWN 3\", \"LEFT 3\", \"RIGHT 2\"]\n",
    "# # Function to compute the distance\n",
    "\n",
    "# x, y = 1, 5\n",
    "    \n",
    "# for i in movements:\n",
    "#     direction, steps = i.split()\n",
    "#     steps = int(steps)\n",
    "#     if direction == \"UP\":\n",
    "#         y += steps\n",
    "#     elif direction == \"DOWN\":\n",
    "#         y -= steps\n",
    "#     elif direction == \"LEFT\":\n",
    "#         x -= steps\n",
    "#     elif direction == \"RIGHT\":\n",
    "#         x += steps\n",
    "#     distance = math.sqrt(x*2 + y*2)\n",
    "# print(int(distance))\n",
    "\n",
    "\n",
    "#Does not works\n",
    "\n",
    "\n",
    "\n",
    "import math\n",
    "\n",
    "# Function to compute the distance\n",
    "def compute_distance(movements):\n",
    "    x, y = 1, 5\n",
    "    \n",
    "    for movement in movements:\n",
    "        direction, steps = movement.split()\n",
    "        steps = int(steps)\n",
    "        \n",
    "        if direction == \"UP\":\n",
    "            y += steps\n",
    "        elif direction == \"DOWN\":\n",
    "            y -= steps\n",
    "        elif direction == \"LEFT\":\n",
    "            x -= steps\n",
    "        elif direction == \"RIGHT\":\n",
    "            x += steps\n",
    "    \n",
    "    # Compute Euclidean distance from (0,0) to (x,y)\n",
    "    distance = math.sqrt(x*2 + y*2)\n",
    "    \n",
    "    # Return the nearest integer\n",
    "    return round(distance)\n",
    "\n",
    "# Sample input\n",
    "movements = [\"UP 5\", \"DOWN 3\", \"LEFT 3\", \"RIGHT 2\"]\n",
    "\n",
    "# Compute and print the distance\n",
    "print(compute_distance(movements))"
   ]
  },
  {
   "cell_type": "markdown",
   "id": "5cfdb309-0964-4aaf-9e75-a1ad1205de15",
   "metadata": {},
   "source": [
    "### 13. Write a program to print whether a given number is  a prime or not"
   ]
  },
  {
   "cell_type": "code",
   "execution_count": 21,
   "id": "719e2c0e-69ef-4538-a5d3-ce816db9be5b",
   "metadata": {},
   "outputs": [
    {
     "name": "stdin",
     "output_type": "stream",
     "text": [
      "Enter the number between 1-100 :  97\n"
     ]
    },
    {
     "name": "stdout",
     "output_type": "stream",
     "text": [
      "This number is a prime \n"
     ]
    }
   ],
   "source": [
    "num = int(input(\"Enter the number between 1-100 : \"))\n",
    "ans = 0\n",
    "for i in range(2,100):\n",
    "    if (num %i==0 and num%num==0):\n",
    "        \n",
    "        print(\"This number is not a prime\")\n",
    "        break\n",
    "    else:\n",
    "        print(\"This number is a prime \")\n",
    "        break\n"
   ]
  },
  {
   "cell_type": "markdown",
   "id": "b43f350a-bd69-4010-91c5-72c9a79cda80",
   "metadata": {},
   "source": [
    "### 14. Print all the Armstrong numbers in a given range.\n",
    "Range will be provided by the user\n",
    "Armstrong number is a number that is equal to the sum of cubes of its digits. For example 0, 1, 153, 370, 371 and 407 are the Armstrong numbers."
   ]
  },
  {
   "cell_type": "code",
   "execution_count": 29,
   "id": "4cdb17f2-8290-407d-aa44-fc3f6e6fe55b",
   "metadata": {},
   "outputs": [
    {
     "name": "stdin",
     "output_type": "stream",
     "text": [
      "Enter the number:  2\n"
     ]
    },
    {
     "name": "stdout",
     "output_type": "stream",
     "text": [
      "2  is not the armstrong number\n"
     ]
    }
   ],
   "source": [
    "number = int(input(\"Enter the number: \"))\n",
    "sum =0\n",
    "num = number\n",
    "while(num>0):\n",
    "    digit = num%10\n",
    "    sum += digit **3\n",
    "    num //=10\n",
    "\n",
    "if sum == number:\n",
    "    print(number,\" is the armstrong number\") \n",
    "else:\n",
    "    print(number,\" is not the armstrong number\")"
   ]
  },
  {
   "cell_type": "markdown",
   "id": "653b4f9b-af24-43fb-bb30-9df860a18691",
   "metadata": {},
   "source": [
    "### 15. Calculate the angle between the hour hand and minute hand.\n",
    "Note: There can be two angles between hands; we need to print a minimum of two. Also, we need to print the floor of the final result angle. For example, if the final angle is 10.61, we need to print 10.\n",
    "\n",
    "Input:\n",
    "H = 9 , M = 0\n",
    "Output:\n",
    "90\n",
    "Explanation:\n",
    "The minimum angle between hour and minute hand when the time is 9 is 90 degress."
   ]
  },
  {
   "cell_type": "code",
   "execution_count": 30,
   "id": "5ff0b8bd-0b00-4f0f-a8a8-ff1b401de46e",
   "metadata": {},
   "outputs": [
    {
     "name": "stdout",
     "output_type": "stream",
     "text": [
      "90\n"
     ]
    }
   ],
   "source": [
    "H = 9 \n",
    "M = 0\n",
    "H_angle = 0.5*(H*60+M)\n",
    "M_angle = 6*M\n",
    "angle = abs(H_angle - M_angle)\n",
    "angle = min(360 - angle, angle)\n",
    "print(int(angle))"
   ]
  },
  {
   "cell_type": "markdown",
   "id": "c6f9cefb-9856-4c11-9386-24817eef7e12",
   "metadata": {},
   "source": [
    "### 16.Given two rectangles, find if the given two rectangles overlap or not. A rectangle is denoted by providing the x and y coordinates of two points: the left top corner and the right bottom corner of the rectangle. Two rectangles sharing a side are considered overlapping. (L1 and R1 are the extreme points of the first rectangle and L2 and R2 are the extreme points of the second rectangle).\n",
    "Note: It may be assumed that the rectangles are parallel to the coordinate axis."
   ]
  },
  {
   "cell_type": "code",
   "execution_count": 31,
   "id": "6fd9385b-7c36-40e4-a9bc-47ee4ca10e69",
   "metadata": {},
   "outputs": [
    {
     "name": "stdout",
     "output_type": "stream",
     "text": [
      "Enter coordinates of first rectangle (x1a y1a x1b y1b):\n"
     ]
    },
    {
     "name": "stdin",
     "output_type": "stream",
     "text": [
      " 1\n",
      " 2\n",
      " 3\n",
      " 4\n"
     ]
    },
    {
     "name": "stdout",
     "output_type": "stream",
     "text": [
      "Enter coordinates of second rectangle (x2a y2a x2b y2b):\n"
     ]
    },
    {
     "name": "stdin",
     "output_type": "stream",
     "text": [
      " 2\n",
      " 3\n",
      " 4\n",
      " 5\n"
     ]
    },
    {
     "name": "stdout",
     "output_type": "stream",
     "text": [
      "Rectangles do not overlap\n"
     ]
    }
   ],
   "source": [
    "# Reading coordinates of first rectangle\n",
    "print(\"Enter coordinates of first rectangle (x1a y1a x1b y1b):\")\n",
    "x1a = int(input())\n",
    "y1a = int(input())\n",
    "x1b = int(input())\n",
    "y1b = int(input())\n",
    "\n",
    "# Reading coordinates of second rectangle\n",
    "print(\"Enter coordinates of second rectangle (x2a y2a x2b y2b):\")\n",
    "x2a = int(input())\n",
    "y2a = int(input())\n",
    "x2b = int(input())\n",
    "y2b = int(input())\n",
    "\n",
    "# Checking if rectangles overlap\n",
    "if (x1a < x2b and x1b > x2a and y1a > y2b and y1b < y2a):\n",
    "    print(\"Rectangles overlap\")\n",
    "else:\n",
    "    print(\"Rectangles do not overlap\")"
   ]
  },
  {
   "cell_type": "markdown",
   "id": "bc8ad40c-caff-4e91-8637-546f8b8b7b05",
   "metadata": {},
   "source": [
    "# 2\n",
    "### (session second_assignment)"
   ]
  },
  {
   "cell_type": "code",
   "execution_count": null,
   "id": "d175d587-0c25-4a32-b38e-0705e643ff93",
   "metadata": {},
   "outputs": [],
   "source": []
  },
  {
   "cell_type": "code",
   "execution_count": null,
   "id": "bc5eb79e-7ea7-4e3c-b163-7d04eb950232",
   "metadata": {},
   "outputs": [],
   "source": []
  },
  {
   "cell_type": "markdown",
   "id": "dae7d45e-c167-4ee7-933c-3d7b93eb4562",
   "metadata": {},
   "source": [
    "### .create 2 list from a given list where,\n",
    "#### 1st list contain all the odd numbers fro0m the original list and , The 2nd one will contain all the even numbers     \n",
    "L = [1,2,3,4,5,6]"
   ]
  }
 ],
 "metadata": {
  "kernelspec": {
   "display_name": "Python 3 (ipykernel)",
   "language": "python",
   "name": "python3"
  },
  "language_info": {
   "codemirror_mode": {
    "name": "ipython",
    "version": 3
   },
   "file_extension": ".py",
   "mimetype": "text/x-python",
   "name": "python",
   "nbconvert_exporter": "python",
   "pygments_lexer": "ipython3",
   "version": "3.11.7"
  }
 },
 "nbformat": 4,
 "nbformat_minor": 5
}
