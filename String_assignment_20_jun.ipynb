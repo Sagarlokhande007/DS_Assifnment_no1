{
 "cells": [
  {
   "cell_type": "markdown",
   "id": "89d2545d-5c97-43b1-9c73-f4e0a85531dc",
   "metadata": {},
   "source": [
    "# Day 5"
   ]
  },
  {
   "cell_type": "markdown",
   "id": "60e0f2dc-8603-47e5-ad0c-bf99a55bd896",
   "metadata": {},
   "source": [
    "### find the length of given string (given by user) without using len() function"
   ]
  },
  {
   "cell_type": "code",
   "execution_count": null,
   "id": "3936d75d-d04d-4c13-bc1c-b0f2d1e2f4b8",
   "metadata": {},
   "outputs": [],
   "source": [
    "\n",
    "\n",
    "\n",
    "a = input()\n",
    "sum = 0\n",
    "for i in a:\n",
    "    sum += 1\n",
    "print(sum)"
   ]
  },
  {
   "cell_type": "markdown",
   "id": "28e12115-f52f-455a-bbba-9bebc998ebb6",
   "metadata": {},
   "source": [
    "### extract userid from given mail i'd ,eg if the mail is chetan24jagtap@gmail.com ,then  user name should be \"chetan24jagtap\"\n"
   ]
  },
  {
   "cell_type": "code",
   "execution_count": 9,
   "id": "102bc56d-0f5f-4a43-a52a-86bd0e2a2435",
   "metadata": {},
   "outputs": [
    {
     "name": "stdin",
     "output_type": "stream",
     "text": [
      " sagarlokhande124@gmail.com\n"
     ]
    },
    {
     "name": "stdout",
     "output_type": "stream",
     "text": [
      "sagarlokhande124\n"
     ]
    }
   ],
   "source": [
    "\n",
    "s = input()\n",
    "sum =\"\"\n",
    "for i in s:\n",
    "    if i==\"@\":\n",
    "        break\n",
    "    elif i.isalnum:\n",
    "        sum = sum+i\n",
    "\n",
    "print(sum)\n",
    "        "
   ]
  },
  {
   "cell_type": "code",
   "execution_count": 10,
   "id": "88f4982d-4e70-43cd-825c-dc2f72dafa34",
   "metadata": {},
   "outputs": [
    {
     "name": "stdin",
     "output_type": "stream",
     "text": [
      " sagarlokhande124@gmail.com\n"
     ]
    },
    {
     "name": "stdout",
     "output_type": "stream",
     "text": [
      "sagarlokhande124\n"
     ]
    }
   ],
   "source": [
    "mail = input()\n",
    "poss = mail.index(\"@\")\n",
    "print(mail[0:poss])"
   ]
  },
  {
   "cell_type": "markdown",
   "id": "cb73a1a1-dad3-49c6-8455-6e893d9b4dea",
   "metadata": {},
   "source": [
    "### count the frequency of perticular character in provided string, Eg \"hello hpw are you\" is the string, the frequency of \"h\" in this string is 2 without using count function"
   ]
  },
  {
   "cell_type": "code",
   "execution_count": 13,
   "id": "86136807-2ffc-4052-ac7e-1ecd24c33550",
   "metadata": {},
   "outputs": [
    {
     "name": "stdin",
     "output_type": "stream",
     "text": [
      " sagar\n",
      " a\n"
     ]
    },
    {
     "name": "stdout",
     "output_type": "stream",
     "text": [
      "2\n"
     ]
    }
   ],
   "source": [
    "a = input()\n",
    "find = input()\n",
    "counter =0\n",
    "for i in a:\n",
    "    if find ==i:\n",
    "        counter +=1\n",
    "print(sum)\n",
    "        "
   ]
  },
  {
   "cell_type": "markdown",
   "id": "ebfb0783-ec08-4b5c-85eb-0b62f5287b51",
   "metadata": {},
   "source": [
    "# write a program which can remove a perticular character from string \n"
   ]
  },
  {
   "cell_type": "code",
   "execution_count": 3,
   "id": "0ed2dc0b-dce2-4527-8a8f-1d4ddf259bbf",
   "metadata": {},
   "outputs": [
    {
     "name": "stdin",
     "output_type": "stream",
     "text": [
      " sagar\n",
      " s\n"
     ]
    },
    {
     "name": "stdout",
     "output_type": "stream",
     "text": [
      "agar\n"
     ]
    }
   ],
   "source": [
    "a = input()\n",
    "remove =input()\n",
    "sum = \"\"\n",
    "for i in a :\n",
    "    if i == remove:\n",
    "        continue\n",
    "    else:\n",
    "        sum =sum +i\n",
    "\n",
    "\n",
    "print(sum)"
   ]
  },
  {
   "cell_type": "markdown",
   "id": "17dcb9a2-33c3-4a95-abfb-91caa5242dc8",
   "metadata": {},
   "source": [
    "# "
   ]
  }
 ],
 "metadata": {
  "kernelspec": {
   "display_name": "Python 3 (ipykernel)",
   "language": "python",
   "name": "python3"
  },
  "language_info": {
   "codemirror_mode": {
    "name": "ipython",
    "version": 3
   },
   "file_extension": ".py",
   "mimetype": "text/x-python",
   "name": "python",
   "nbconvert_exporter": "python",
   "pygments_lexer": "ipython3",
   "version": "3.11.7"
  }
 },
 "nbformat": 4,
 "nbformat_minor": 5
}
